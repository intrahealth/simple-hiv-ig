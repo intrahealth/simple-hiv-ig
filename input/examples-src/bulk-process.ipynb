{
 "cells": [
  {
   "cell_type": "code",
   "execution_count": 33,
   "id": "ef2a9604",
   "metadata": {},
   "outputs": [],
   "source": [
    "#!/usr/bin/env python\n",
    "# coding: utf-8\n",
    "\n",
    "# pip install pandas openpyxl jinja2 faker\n",
    "import pandas as pd\n",
    "import pathlib\n",
    "from jinja2 import Template\n",
    "from faker import Faker\n",
    "import sys\n",
    "from datetime import datetime\n",
    "from dateutil.relativedelta import relativedelta\n",
    "import random"
   ]
  },
  {
   "cell_type": "code",
   "execution_count": 34,
   "id": "275388a1",
   "metadata": {},
   "outputs": [],
   "source": [
    "df_names = pd.read_csv('out.csv')\n",
    "# print(df_names[:4])\n",
    "names = df_names['en'].sample(n=1, random_state=1)\n",
    "# print(names.values)\n",
    "# print(names.values[0])"
   ]
  },
  {
   "cell_type": "code",
   "execution_count": 35,
   "id": "82cdea75",
   "metadata": {},
   "outputs": [
    {
     "name": "stdout",
     "output_type": "stream",
     "text": [
      "command: ['/usr/local/lib/python3.9/site-packages/ipykernel_launcher.py', '-f', '/Users/richard/Library/Jupyter/runtime/kernel-1bf4ec19-f590-44a1-b5fa-f7703ffe3b8f.json']\n",
      "male.template.fsh ar bulk-ar0 ذهب0 2006-08-08 2026-08-08 2036-08-08 ar99990\n",
      "male.template.fsh ar bulk-ar1 الأنتيمون1 1981-01-20 2001-01-20 2011-01-20 ar99991\n",
      "male.template.fsh ar bulk-ar2 الهيليوم2 2004-11-10 2024-11-10 2034-11-10 ar99992\n",
      "male.template.fsh ar bulk-ar3 الفاناديوم3 2009-02-19 2029-02-19 2039-02-19 ar99993\n",
      "male.template.fsh ar bulk-ar4 الأكسجين4 2015-08-21 2035-08-21 2045-08-21 ar99994\n",
      "male.template.fsh ar bulk-ar5 المغنيسيوم5 1950-05-19 1970-05-19 1980-05-19 ar99995\n",
      "male.template.fsh ar bulk-ar6 الغاليوم6 1972-05-18 1992-05-18 2002-05-18 ar99996\n",
      "male.template.fsh ar bulk-ar7 الأرجون7 1990-06-11 2010-06-11 2020-06-11 ar99997\n",
      "male.template.fsh ar bulk-ar8 اللانثانم8 2015-10-04 2035-10-04 2045-10-04 ar99998\n",
      "male.template.fsh ar bulk-ar9 بروميثيوم9 2002-10-11 2022-10-11 2032-10-11 ar99999\n"
     ]
    }
   ],
   "source": [
    "# vars: {{suffix}}, {{given}}, {{family}}, {{name}}, {{hivonsetdate}}, {{birthDate}}, {{hivtestdate}}\n",
    "# for now, suffix = name and suffix\n",
    "fake = Faker()\n",
    "def genfsh(file, lang, obs):\n",
    "    for i in range(obs):\n",
    "        tempname = df_names[lang].sample(n=1)\n",
    "        tempname = tempname.values[0]\n",
    "        suffix = 'bulk-' + lang + str(i)\n",
    "        given = tempname\n",
    "        family = str(i)\n",
    "        name = tempname + str(i)\n",
    "        # for a small bulk sample, the range needs to be slim\n",
    "        x = fake.date_between(start_date='-60y', end_date='-30y')\n",
    "        birthDate = str(x)\n",
    "        # todo: make a bit more random, stop making future dates\n",
    "        # hivonsetdate = x + relativedelta(months=240) # '1995-01-01'\n",
    "        hivonsetdate = '1995-01-01'\n",
    "        hivtestdate = '2005-01-01'\n",
    "        # hivtestdate = hivonsetdate + relativedelta(months=12) # '2005-01-01'\n",
    "        pregstart = x + relativedelta(months=240)\n",
    "        pregstop = pregstart + relativedelta(months=9)\n",
    "        # vltestdate = pregstart\n",
    "        vltestdate = '2021-01-01'\n",
    "        viralload = random.randint(50,2000)\n",
    "        identifier = lang + str(9999) + str(i)\n",
    "        print(file, lang, suffix, name, birthDate, hivonsetdate, hivtestdate, identifier)\n",
    "\n",
    "        # put through jinja2\n",
    "        path = pathlib.Path(file)\n",
    "        text = path.read_text()\n",
    "        t = Template(text)\n",
    "        msg = t.render(\n",
    "            suffix=suffix,\n",
    "            given=given,\n",
    "            family=family,\n",
    "            name=name,\n",
    "            birthDate=birthDate,\n",
    "            hivonsetdate=hivonsetdate,\n",
    "            hivtestdate=hivtestdate,\n",
    "            pregstart=pregstart,\n",
    "            pregstop=pregstop,\n",
    "            viralload=viralload,\n",
    "            vltestdate=vltestdate\n",
    "        )\n",
    "        path_out = pathlib.Path(f\"output/{suffix}.fsh\")\n",
    "        path_out.write_text(msg)\n",
    "\n",
    "print(\"command:\", str(sys.argv))\n",
    "templates = ['female.template.fsh', 'male.template.fsh']\n",
    "if sys.argv[1] in templates:\n",
    "    genfsh(str(sys.argv[1]), str(sys.argv[2]), int(sys.argv[3]))\n",
    "else:\n",
    "    genfsh('male.template.fsh', 'ar', 10)"
   ]
  },
  {
   "cell_type": "code",
   "execution_count": 1,
   "id": "ab5ad817",
   "metadata": {},
   "outputs": [
    {
     "name": "stdout",
     "output_type": "stream",
     "text": [
      "[NbConvertApp] Converting notebook bulk-process.ipynb to script\n",
      "[NbConvertApp] Writing 2438 bytes to bulk-process.py\n"
     ]
    }
   ],
   "source": [
    "# run this cell to refresh the bulk-process script\n",
    "!jupyter nbconvert --to script bulk-process.ipynb"
   ]
  },
  {
   "cell_type": "code",
   "execution_count": null,
   "id": "bff710e2",
   "metadata": {},
   "outputs": [],
   "source": []
  }
 ],
 "metadata": {
  "kernelspec": {
   "display_name": "Python 3",
   "language": "python",
   "name": "python3"
  },
  "language_info": {
   "codemirror_mode": {
    "name": "ipython",
    "version": 3
   },
   "file_extension": ".py",
   "mimetype": "text/x-python",
   "name": "python",
   "nbconvert_exporter": "python",
   "pygments_lexer": "ipython3",
   "version": "3.9.7"
  }
 },
 "nbformat": 4,
 "nbformat_minor": 5
}
