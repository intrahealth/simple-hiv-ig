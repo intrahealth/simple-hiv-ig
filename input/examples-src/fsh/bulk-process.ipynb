{
 "cells": [
  {
   "cell_type": "code",
   "execution_count": 4,
   "id": "ef2a9604",
   "metadata": {},
   "outputs": [],
   "source": [
    "#!/usr/bin/env python\n",
    "# coding: utf-8\n",
    "\n",
    "# pip install pandas openpyxl jinja2 faker\n",
    "import pandas as pd\n",
    "import pathlib\n",
    "from jinja2 import Template\n",
    "from faker import Faker\n",
    "import sys\n",
    "from datetime import datetime\n",
    "from dateutil.relativedelta import relativedelta\n",
    "import random"
   ]
  },
  {
   "cell_type": "code",
   "execution_count": 5,
   "id": "275388a1",
   "metadata": {},
   "outputs": [],
   "source": [
    "df_names = pd.read_csv('out.csv')\n",
    "# print(df_names[:4])\n",
    "names = df_names['en'].sample(n=1, random_state=1)\n",
    "# print(names.values)\n",
    "# print(names.values[0])"
   ]
  },
  {
   "cell_type": "code",
   "execution_count": 6,
   "id": "82cdea75",
   "metadata": {},
   "outputs": [
    {
     "name": "stdout",
     "output_type": "stream",
     "text": [
      "command: ['/usr/local/lib/python3.9/site-packages/ipykernel_launcher.py', '-f', '/Users/richard/Library/Jupyter/runtime/kernel-c567a1cb-b04f-48aa-9e73-f8b733b34d1e.json']\n",
      "male.template.fsh ar bulk-ar0 هيدروجين0 1967-01-09 1995-01-01 2005-01-01 ar99990 103\n",
      "male.template.fsh ar bulk-ar1 رادون1 1962-04-10 1995-01-01 2005-01-01 ar99991 102\n",
      "male.template.fsh ar bulk-ar2 بيركيليوم2 1987-01-24 1995-01-01 2005-01-01 ar99992 100\n",
      "male.template.fsh ar bulk-ar3 صوديوم3 1970-12-05 1995-01-01 2005-01-01 ar99993 101\n",
      "male.template.fsh ar bulk-ar4 السيريوم4 1982-05-15 1995-01-01 2005-01-01 ar99994 103\n",
      "male.template.fsh ar bulk-ar5 التيتانيوم5 1979-04-15 1995-01-01 2005-01-01 ar99995 102\n",
      "male.template.fsh ar bulk-ar6 كاليفورنيوم6 1968-01-16 1995-01-01 2005-01-01 ar99996 102\n",
      "male.template.fsh ar bulk-ar7 البروتكتينيوم7 1965-10-29 1995-01-01 2005-01-01 ar99997 100\n",
      "male.template.fsh ar bulk-ar8 الفاناديوم8 1983-04-25 1995-01-01 2005-01-01 ar99998 104\n",
      "male.template.fsh ar bulk-ar9 هيدروجين9 1980-07-14 1995-01-01 2005-01-01 ar99999 104\n"
     ]
    }
   ],
   "source": [
    "# vars: {{suffix}}, {{given}}, {{family}}, {{name}}, {{hivonsetdate}}, {{birthDate}}, {{hivtestdate}}\n",
    "# for now, suffix = name and suffix\n",
    "fake = Faker()\n",
    "def genfsh(file, lang, obs):\n",
    "    for i in range(obs):\n",
    "        tempname = df_names[lang].sample(n=1)\n",
    "        tempname = tempname.values[0]\n",
    "        suffix = 'bulk-' + lang + str(i)\n",
    "        given = tempname\n",
    "        family = str(i)\n",
    "        name = tempname + str(i)\n",
    "        # for a small bulk sample, the range needs to be slim\n",
    "        x = fake.date_between(start_date='-60y', end_date='-30y')\n",
    "        birthDate = str(x)\n",
    "        # todo: make a bit more random, stop making future dates\n",
    "        # hivonsetdate = x + relativedelta(months=240) # '1995-01-01'\n",
    "        hivonsetdate = '1995-01-01'\n",
    "        hivtestdate = '2005-01-01'\n",
    "        # hivtestdate = hivonsetdate + relativedelta(months=12) # '2005-01-01'\n",
    "        pregstart = x + relativedelta(months=240)\n",
    "        pregstop = pregstart + relativedelta(months=9)\n",
    "        # vltestdate = pregstart\n",
    "        vltestdate = '2021-01-01'\n",
    "        viralload = random.randint(50,2000)\n",
    "        location = random.randint(100,104)\n",
    "        identifier = lang + str(9999) + str(i)\n",
    "        print(file, lang, suffix, name, birthDate, hivonsetdate, hivtestdate, identifier, location)\n",
    "\n",
    "        # put through jinja2\n",
    "        path = pathlib.Path(file)\n",
    "        text = path.read_text()\n",
    "        t = Template(text)\n",
    "        msg = t.render(\n",
    "            suffix=suffix,\n",
    "            given=given,\n",
    "            family=family,\n",
    "            name=name,\n",
    "            birthDate=birthDate,\n",
    "            hivonsetdate=hivonsetdate,\n",
    "            hivtestdate=hivtestdate,\n",
    "            pregstart=pregstart,\n",
    "            pregstop=pregstop,\n",
    "            viralload=viralload,\n",
    "            vltestdate=vltestdate,\n",
    "            location=location,\n",
    "        )\n",
    "        path_out = pathlib.Path(f\"output/{suffix}.fsh\")\n",
    "        path_out.write_text(msg)\n",
    "\n",
    "print(\"command:\", str(sys.argv))\n",
    "templates = ['female.template.fsh', 'male.template.fsh']\n",
    "if sys.argv[1] in templates:\n",
    "    genfsh(str(sys.argv[1]), str(sys.argv[2]), int(sys.argv[3]))\n",
    "else:\n",
    "    genfsh('male.template.fsh', 'ar', 10)"
   ]
  },
  {
   "cell_type": "code",
   "execution_count": 7,
   "id": "ab5ad817",
   "metadata": {},
   "outputs": [
    {
     "name": "stdout",
     "output_type": "stream",
     "text": [
      "[NbConvertApp] Converting notebook bulk-process.ipynb to script\n",
      "[NbConvertApp] Writing 2767 bytes to bulk-process.py\n"
     ]
    }
   ],
   "source": [
    "# run this cell to refresh the bulk-process script\n",
    "# !jupyter nbconvert --to script bulk-process.ipynb"
   ]
  },
  {
   "cell_type": "code",
   "execution_count": null,
   "id": "bff710e2",
   "metadata": {},
   "outputs": [],
   "source": []
  }
 ],
 "metadata": {
  "kernelspec": {
   "display_name": "Python 3.9.12 64-bit",
   "language": "python",
   "name": "python3"
  },
  "language_info": {
   "codemirror_mode": {
    "name": "ipython",
    "version": 3
   },
   "file_extension": ".py",
   "mimetype": "text/x-python",
   "name": "python",
   "nbconvert_exporter": "python",
   "pygments_lexer": "ipython3",
   "version": "3.9.13"
  },
  "vscode": {
   "interpreter": {
    "hash": "01c1cefed0550c79a29fba90c54ae81dac69522dafa1a36afb5a68ec6c0cf5be"
   }
  }
 },
 "nbformat": 4,
 "nbformat_minor": 5
}
